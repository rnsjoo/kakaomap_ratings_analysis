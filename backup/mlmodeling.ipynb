{
 "cells": [
  {
   "cell_type": "code",
   "execution_count": 46,
   "metadata": {},
   "outputs": [],
   "source": [
    "import sqlite3\n",
    "\n",
    "import pandas as pd\n",
    "import numpy as np\n",
    "\n",
    "from sklearn.model_selection import train_test_split\n",
    "from sklearn.pipeline import make_pipeline\n",
    "from sklearn.ensemble import RandomForestClassifier\n",
    "from sklearn.tree import DecisionTreeClassifier\n",
    "from category_encoders import OrdinalEncoder\n",
    "\n",
    "import pickle"
   ]
  },
  {
   "cell_type": "markdown",
   "metadata": {},
   "source": [
    "#### 데이터 가져오기"
   ]
  },
  {
   "cell_type": "code",
   "execution_count": 47,
   "metadata": {},
   "outputs": [],
   "source": [
    "# DB 연결 후 테이블 모두 join\n",
    "DB_FILENAME = 'projectDB.db'\n",
    "conn = sqlite3.connect(DB_FILENAME)\n",
    "cur = conn.cursor()\n",
    "tablejoin = cur.execute(\"\"\"SELECT r.상호명, r.리뷰날짜, r.별점, \n",
    "iv.메뉴분류, iv.상세주소, iv.노키즈존여부, iv.예약가능여부, iv.룸보유여부, iv.유아서비스기타\n",
    "FROM review r\n",
    "JOIN (SELECT * FROM info i JOIN visitjeju v ON i.상호명 == v.상호명) AS iv\n",
    "ON r.상호명 == iv.상호명;\n",
    "\"\"\")"
   ]
  },
  {
   "cell_type": "code",
   "execution_count": 48,
   "metadata": {},
   "outputs": [],
   "source": [
    "# join한 테이블을 데이터프레임으로 가져오기\n",
    "cols = [col[0] for col in tablejoin.description]\n",
    "df = pd.DataFrame(data=tablejoin.fetchall(), columns=cols)"
   ]
  },
  {
   "cell_type": "code",
   "execution_count": 49,
   "metadata": {},
   "outputs": [],
   "source": [
    "# DB 연결 종료\n",
    "cur.close()\n",
    "conn.close()"
   ]
  },
  {
   "cell_type": "markdown",
   "metadata": {},
   "source": [
    "#### 데이터 정제"
   ]
  },
  {
   "cell_type": "code",
   "execution_count": 50,
   "metadata": {},
   "outputs": [
    {
     "data": {
      "text/html": [
       "<div>\n",
       "<style scoped>\n",
       "    .dataframe tbody tr th:only-of-type {\n",
       "        vertical-align: middle;\n",
       "    }\n",
       "\n",
       "    .dataframe tbody tr th {\n",
       "        vertical-align: top;\n",
       "    }\n",
       "\n",
       "    .dataframe thead th {\n",
       "        text-align: right;\n",
       "    }\n",
       "</style>\n",
       "<table border=\"1\" class=\"dataframe\">\n",
       "  <thead>\n",
       "    <tr style=\"text-align: right;\">\n",
       "      <th></th>\n",
       "      <th>상호명</th>\n",
       "      <th>리뷰날짜</th>\n",
       "      <th>별점</th>\n",
       "      <th>메뉴분류</th>\n",
       "      <th>상세주소</th>\n",
       "      <th>노키즈존여부</th>\n",
       "      <th>예약가능여부</th>\n",
       "      <th>룸보유여부</th>\n",
       "      <th>유아서비스기타</th>\n",
       "    </tr>\n",
       "  </thead>\n",
       "  <tbody>\n",
       "    <tr>\n",
       "      <th>0</th>\n",
       "      <td>우유부단</td>\n",
       "      <td>2022.08.22</td>\n",
       "      <td>80</td>\n",
       "      <td>카페</td>\n",
       "      <td>제주특별자치도 제주시 한림읍 금악동길 38 1층</td>\n",
       "      <td></td>\n",
       "      <td></td>\n",
       "      <td></td>\n",
       "      <td></td>\n",
       "    </tr>\n",
       "    <tr>\n",
       "      <th>1</th>\n",
       "      <td>우유부단</td>\n",
       "      <td>2022.05.11</td>\n",
       "      <td>100</td>\n",
       "      <td>카페</td>\n",
       "      <td>제주특별자치도 제주시 한림읍 금악동길 38 1층</td>\n",
       "      <td></td>\n",
       "      <td></td>\n",
       "      <td></td>\n",
       "      <td></td>\n",
       "    </tr>\n",
       "    <tr>\n",
       "      <th>2</th>\n",
       "      <td>우유부단</td>\n",
       "      <td>2022.04.16</td>\n",
       "      <td>60</td>\n",
       "      <td>카페</td>\n",
       "      <td>제주특별자치도 제주시 한림읍 금악동길 38 1층</td>\n",
       "      <td></td>\n",
       "      <td></td>\n",
       "      <td></td>\n",
       "      <td></td>\n",
       "    </tr>\n",
       "    <tr>\n",
       "      <th>3</th>\n",
       "      <td>우유부단</td>\n",
       "      <td>2022.01.12</td>\n",
       "      <td>40</td>\n",
       "      <td>카페</td>\n",
       "      <td>제주특별자치도 제주시 한림읍 금악동길 38 1층</td>\n",
       "      <td></td>\n",
       "      <td></td>\n",
       "      <td></td>\n",
       "      <td></td>\n",
       "    </tr>\n",
       "    <tr>\n",
       "      <th>4</th>\n",
       "      <td>우유부단</td>\n",
       "      <td>2022.01.11</td>\n",
       "      <td>100</td>\n",
       "      <td>카페</td>\n",
       "      <td>제주특별자치도 제주시 한림읍 금악동길 38 1층</td>\n",
       "      <td></td>\n",
       "      <td></td>\n",
       "      <td></td>\n",
       "      <td></td>\n",
       "    </tr>\n",
       "  </tbody>\n",
       "</table>\n",
       "</div>"
      ],
      "text/plain": [
       "    상호명        리뷰날짜   별점 메뉴분류                        상세주소 노키즈존여부 예약가능여부 룸보유여부  \\\n",
       "0  우유부단  2022.08.22   80   카페  제주특별자치도 제주시 한림읍 금악동길 38 1층                       \n",
       "1  우유부단  2022.05.11  100   카페  제주특별자치도 제주시 한림읍 금악동길 38 1층                       \n",
       "2  우유부단  2022.04.16   60   카페  제주특별자치도 제주시 한림읍 금악동길 38 1층                       \n",
       "3  우유부단  2022.01.12   40   카페  제주특별자치도 제주시 한림읍 금악동길 38 1층                       \n",
       "4  우유부단  2022.01.11  100   카페  제주특별자치도 제주시 한림읍 금악동길 38 1층                       \n",
       "\n",
       "  유아서비스기타  \n",
       "0          \n",
       "1          \n",
       "2          \n",
       "3          \n",
       "4          "
      ]
     },
     "execution_count": 50,
     "metadata": {},
     "output_type": "execute_result"
    }
   ],
   "source": [
    "df.head()"
   ]
  },
  {
   "cell_type": "code",
   "execution_count": 51,
   "metadata": {},
   "outputs": [],
   "source": [
    "# 공백을 NaN로 변경\n",
    "df = df.replace('', np.nan)"
   ]
  },
  {
   "cell_type": "code",
   "execution_count": 52,
   "metadata": {},
   "outputs": [
    {
     "name": "stdout",
     "output_type": "stream",
     "text": [
      "<class 'pandas.core.frame.DataFrame'>\n",
      "RangeIndex: 40745 entries, 0 to 40744\n",
      "Data columns (total 9 columns):\n",
      " #   Column   Non-Null Count  Dtype \n",
      "---  ------   --------------  ----- \n",
      " 0   상호명      40745 non-null  object\n",
      " 1   리뷰날짜     40186 non-null  object\n",
      " 2   별점       40745 non-null  int64 \n",
      " 3   메뉴분류     40745 non-null  object\n",
      " 4   상세주소     40745 non-null  object\n",
      " 5   노키즈존여부   13711 non-null  object\n",
      " 6   예약가능여부   14335 non-null  object\n",
      " 7   룸보유여부    482 non-null    object\n",
      " 8   유아서비스기타  166 non-null    object\n",
      "dtypes: int64(1), object(8)\n",
      "memory usage: 2.8+ MB\n"
     ]
    }
   ],
   "source": [
    "# df 정보 확인\n",
    "df.info()"
   ]
  },
  {
   "cell_type": "markdown",
   "metadata": {},
   "source": [
    "- 결측치 처리"
   ]
  },
  {
   "cell_type": "code",
   "execution_count": 53,
   "metadata": {},
   "outputs": [
    {
     "data": {
      "text/plain": [
       "상호명            0\n",
       "리뷰날짜         559\n",
       "별점             0\n",
       "메뉴분류           0\n",
       "상세주소           0\n",
       "노키즈존여부     27034\n",
       "예약가능여부     26410\n",
       "룸보유여부      40263\n",
       "유아서비스기타    40579\n",
       "dtype: int64"
      ]
     },
     "execution_count": 53,
     "metadata": {},
     "output_type": "execute_result"
    }
   ],
   "source": [
    "# 결측치 확인\n",
    "df.isnull().sum()"
   ]
  },
  {
   "cell_type": "code",
   "execution_count": 54,
   "metadata": {},
   "outputs": [
    {
     "name": "stdout",
     "output_type": "stream",
     "text": [
      "치저스) 날짜 O: 3 , 날짜 X: 65\n",
      "천리식당) 날짜 O: 3 , 날짜 X: 54\n",
      "다람쥐 식탁) 날짜 O: 3 , 날짜 X: 45\n",
      "목포고을) 날짜 O: 3 , 날짜 X: 71\n",
      "글라글라하와이) 날짜 O: 3 , 날짜 X: 87\n",
      "남양수산) 날짜 O: 3 , 날짜 X: 69\n",
      "잇칸시타) 날짜 O: 3 , 날짜 X: 81\n",
      "몬스테라 자구리) 날짜 O: 3 , 날짜 X: 57\n",
      "마마무말가든) 날짜 O: 3 , 날짜 X: 30\n"
     ]
    }
   ],
   "source": [
    "# 상호명별 리뷰날짜 결측치 확인\n",
    "null_rest = df[df['리뷰날짜'].isnull()]['상호명'].unique()\n",
    "for rest in null_rest:\n",
    "    print(f\"{rest}) 날짜 O:\", df[df['상호명']==rest]['리뷰날짜'].notnull().sum(), \n",
    "    \", 날짜 X:\", df[df['상호명']==rest]['리뷰날짜'].isnull().sum())"
   ]
  },
  {
   "cell_type": "code",
   "execution_count": 55,
   "metadata": {},
   "outputs": [
    {
     "data": {
      "text/plain": [
       "0.017045454545454544"
      ]
     },
     "execution_count": 55,
     "metadata": {},
     "output_type": "execute_result"
    }
   ],
   "source": [
    "# 리뷰날짜가 없는 상호/전체 비율 확인\n",
    "df[df['리뷰날짜'].isnull()]['상호명'].nunique() / df['상호명'].nunique()"
   ]
  },
  {
   "cell_type": "code",
   "execution_count": 56,
   "metadata": {},
   "outputs": [],
   "source": [
    "# 비율이 적으므로 해당 상호 삭제\n",
    "del_index = df[df['리뷰날짜'].isnull()].index\n",
    "df = df.drop(del_index)"
   ]
  },
  {
   "cell_type": "code",
   "execution_count": 57,
   "metadata": {},
   "outputs": [],
   "source": [
    "# 노키즈존여부/예약가능여부 결측치는 unknown으로 대체\n",
    "df[['노키즈존여부', '예약가능여부']] = df[['노키즈존여부', '예약가능여부']].replace(np.nan, 'unknown')"
   ]
  },
  {
   "cell_type": "code",
   "execution_count": 58,
   "metadata": {},
   "outputs": [],
   "source": [
    "# 룸보유여부/유아서비스기타는 결측치가 많으므로 해당 컬럼의 변별력이 없을 것으로 판단하여 삭제\n",
    "df = df.drop(['룸보유여부', '유아서비스기타'], axis=1)"
   ]
  },
  {
   "cell_type": "code",
   "execution_count": 59,
   "metadata": {},
   "outputs": [
    {
     "data": {
      "text/plain": [
       "상호명       0\n",
       "리뷰날짜      0\n",
       "별점        0\n",
       "메뉴분류      0\n",
       "상세주소      0\n",
       "노키즈존여부    0\n",
       "예약가능여부    0\n",
       "dtype: int64"
      ]
     },
     "execution_count": 59,
     "metadata": {},
     "output_type": "execute_result"
    }
   ],
   "source": [
    "# 결측치 처리 완료\n",
    "df.isnull().sum()"
   ]
  },
  {
   "cell_type": "markdown",
   "metadata": {},
   "source": [
    "- 중복값 확인"
   ]
  },
  {
   "cell_type": "code",
   "execution_count": 60,
   "metadata": {},
   "outputs": [
    {
     "data": {
      "text/plain": [
       "7142"
      ]
     },
     "execution_count": 60,
     "metadata": {},
     "output_type": "execute_result"
    }
   ],
   "source": [
    "df.duplicated().sum()"
   ]
  },
  {
   "cell_type": "code",
   "execution_count": 61,
   "metadata": {},
   "outputs": [],
   "source": [
    "df = df.drop_duplicates()"
   ]
  },
  {
   "cell_type": "code",
   "execution_count": 62,
   "metadata": {},
   "outputs": [
    {
     "data": {
      "text/plain": [
       "(33044, 7)"
      ]
     },
     "execution_count": 62,
     "metadata": {},
     "output_type": "execute_result"
    }
   ],
   "source": [
    "df.shape"
   ]
  },
  {
   "cell_type": "markdown",
   "metadata": {},
   "source": [
    "- 메뉴 대분류 추가"
   ]
  },
  {
   "cell_type": "code",
   "execution_count": 63,
   "metadata": {},
   "outputs": [
    {
     "data": {
      "text/plain": [
       "array(['카페', '한식', '스테이크,립', '양식', '멕시칸,브라질', '육류,고기', '샤브샤브', '회', '떡볶이',\n",
       "       '해물,생선', '아이스크림', '제과,베이커리', '닭요리', '호프,요리주점', '피자', '분식', '한정식',\n",
       "       '햄버거', '이탈리안', '국수', '중국요리', '굴,전복', '삼계탕', '족발,보쌈', '커피전문점',\n",
       "       '해산물뷔페', '디저트카페', '일본식주점', '국밥', '돈까스,우동', '일식집', '삼겹살', '두부전문점',\n",
       "       '추어', '베트남음식', '인도음식', '불고기,두루치기', '뷔페', '떡,한과', '기념품판매', '중식',\n",
       "       '일본식라면', '동남아음식', '초밥,롤', '치킨', '아시아음식', '갈비', '해장국', '일식', '테마카페',\n",
       "       '냉면', '도시락', '인테리어장식판매', '콘도,리조트', '해산물', '북카페', '서점', '주류제조',\n",
       "       '음료,주류제조', '전통찻집', '퓨전요리', '퓨전일식', '조개', '민박', '순대', '터키음식',\n",
       "       '한식뷔페', '샌드위치', '죽', '기사식당', '생과일전문점', '감자탕'], dtype=object)"
      ]
     },
     "execution_count": 63,
     "metadata": {},
     "output_type": "execute_result"
    }
   ],
   "source": [
    "# 메뉴분류 확인\n",
    "df['메뉴분류'].unique()"
   ]
  },
  {
   "cell_type": "code",
   "execution_count": 64,
   "metadata": {},
   "outputs": [
    {
     "data": {
      "text/html": [
       "<div>\n",
       "<style scoped>\n",
       "    .dataframe tbody tr th:only-of-type {\n",
       "        vertical-align: middle;\n",
       "    }\n",
       "\n",
       "    .dataframe tbody tr th {\n",
       "        vertical-align: top;\n",
       "    }\n",
       "\n",
       "    .dataframe thead th {\n",
       "        text-align: right;\n",
       "    }\n",
       "</style>\n",
       "<table border=\"1\" class=\"dataframe\">\n",
       "  <thead>\n",
       "    <tr style=\"text-align: right;\">\n",
       "      <th></th>\n",
       "      <th>상호명</th>\n",
       "      <th>리뷰날짜</th>\n",
       "      <th>별점</th>\n",
       "      <th>메뉴분류</th>\n",
       "      <th>상세주소</th>\n",
       "      <th>노키즈존여부</th>\n",
       "      <th>예약가능여부</th>\n",
       "    </tr>\n",
       "  </thead>\n",
       "  <tbody>\n",
       "    <tr>\n",
       "      <th>972</th>\n",
       "      <td>숨비나리카페</td>\n",
       "      <td>2022.08.16</td>\n",
       "      <td>60</td>\n",
       "      <td>닭요리</td>\n",
       "      <td>제주특별자치도 서귀포시 안덕면 중산간서로1615번길 8</td>\n",
       "      <td>unknown</td>\n",
       "      <td>unknown</td>\n",
       "    </tr>\n",
       "    <tr>\n",
       "      <th>11407</th>\n",
       "      <td>제스토리</td>\n",
       "      <td>2022.07.11</td>\n",
       "      <td>80</td>\n",
       "      <td>기념품판매</td>\n",
       "      <td>제주특별자치도 서귀포시 막숙포로 60</td>\n",
       "      <td>unknown</td>\n",
       "      <td>unknown</td>\n",
       "    </tr>\n",
       "    <tr>\n",
       "      <th>18830</th>\n",
       "      <td>성미가든</td>\n",
       "      <td>2022.08.12</td>\n",
       "      <td>60</td>\n",
       "      <td>닭요리</td>\n",
       "      <td>제주특별자치도 제주시 조천읍 교래1길 2</td>\n",
       "      <td>unknown</td>\n",
       "      <td>unknown</td>\n",
       "    </tr>\n",
       "    <tr>\n",
       "      <th>21576</th>\n",
       "      <td>나나이로 아코제주</td>\n",
       "      <td>2022.05.17</td>\n",
       "      <td>60</td>\n",
       "      <td>인테리어장식판매</td>\n",
       "      <td>제주특별자치도 제주시 구좌읍 구좌로 75-1</td>\n",
       "      <td>unknown</td>\n",
       "      <td>unknown</td>\n",
       "    </tr>\n",
       "    <tr>\n",
       "      <th>22764</th>\n",
       "      <td>핀크스 비오토피아</td>\n",
       "      <td>2022.08.01</td>\n",
       "      <td>20</td>\n",
       "      <td>콘도,리조트</td>\n",
       "      <td>제주특별자치도 서귀포시 안덕면 산록남로762번길 79</td>\n",
       "      <td>unknown</td>\n",
       "      <td>unknown</td>\n",
       "    </tr>\n",
       "    <tr>\n",
       "      <th>24630</th>\n",
       "      <td>달리북카페</td>\n",
       "      <td>2022.08.09</td>\n",
       "      <td>100</td>\n",
       "      <td>서점</td>\n",
       "      <td>제주특별자치도 제주시 한림읍 월계로 18 1층</td>\n",
       "      <td>unknown</td>\n",
       "      <td>unknown</td>\n",
       "    </tr>\n",
       "    <tr>\n",
       "      <th>26158</th>\n",
       "      <td>숨비나리</td>\n",
       "      <td>2022.08.16</td>\n",
       "      <td>60</td>\n",
       "      <td>닭요리</td>\n",
       "      <td>제주특별자치도 서귀포시 안덕면 중산간서로1615번길 8</td>\n",
       "      <td>unknown</td>\n",
       "      <td>y</td>\n",
       "    </tr>\n",
       "    <tr>\n",
       "      <th>28724</th>\n",
       "      <td>수망일기</td>\n",
       "      <td>2021.09.18</td>\n",
       "      <td>100</td>\n",
       "      <td>민박</td>\n",
       "      <td>제주특별자치도 서귀포시 남원읍 남조로 593-2</td>\n",
       "      <td>unknown</td>\n",
       "      <td>unknown</td>\n",
       "    </tr>\n",
       "  </tbody>\n",
       "</table>\n",
       "</div>"
      ],
      "text/plain": [
       "             상호명        리뷰날짜   별점      메뉴분류                            상세주소  \\\n",
       "972       숨비나리카페  2022.08.16   60       닭요리  제주특별자치도 서귀포시 안덕면 중산간서로1615번길 8   \n",
       "11407       제스토리  2022.07.11   80     기념품판매            제주특별자치도 서귀포시 막숙포로 60   \n",
       "18830       성미가든  2022.08.12   60       닭요리          제주특별자치도 제주시 조천읍 교래1길 2   \n",
       "21576  나나이로 아코제주  2022.05.17   60  인테리어장식판매        제주특별자치도 제주시 구좌읍 구좌로 75-1   \n",
       "22764  핀크스 비오토피아  2022.08.01   20    콘도,리조트   제주특별자치도 서귀포시 안덕면 산록남로762번길 79   \n",
       "24630      달리북카페  2022.08.09  100        서점       제주특별자치도 제주시 한림읍 월계로 18 1층   \n",
       "26158       숨비나리  2022.08.16   60       닭요리  제주특별자치도 서귀포시 안덕면 중산간서로1615번길 8   \n",
       "28724       수망일기  2021.09.18  100        민박      제주특별자치도 서귀포시 남원읍 남조로 593-2   \n",
       "\n",
       "        노키즈존여부   예약가능여부  \n",
       "972    unknown  unknown  \n",
       "11407  unknown  unknown  \n",
       "18830  unknown  unknown  \n",
       "21576  unknown  unknown  \n",
       "22764  unknown  unknown  \n",
       "24630  unknown  unknown  \n",
       "26158  unknown        y  \n",
       "28724  unknown  unknown  "
      ]
     },
     "execution_count": 64,
     "metadata": {},
     "output_type": "execute_result"
    }
   ],
   "source": [
    "df[(df['메뉴분류']=='기념품판매') | (df['메뉴분류']=='인테리어장식판매')\n",
    " | (df['메뉴분류']=='콘도,리조트') | (df['메뉴분류']=='민박') | (df['메뉴분류']=='서점')\n",
    " | (df['메뉴분류']=='닭요리')].groupby('상호명').head(1)"
   ]
  },
  {
   "cell_type": "code",
   "execution_count": 65,
   "metadata": {},
   "outputs": [],
   "source": [
    "# 정보를 수집한 카카오맵을 제외한 다른 곳에서 정보 수집하여 메뉴분류 변경\n",
    "# 네이버 마이플레이스 이용\n",
    "df.loc[df[df['상호명']=='핀크스 비오토피아'].index, '메뉴분류'] = '양식'\n",
    "df.loc[df[df['상호명']=='달리북카페'].index, '메뉴분류'] = '북카페'\n",
    "df.loc[df[df['상호명']=='숨비나리'].index, '메뉴분류'] = '한식'\n",
    "df.loc[df[df['상호명']=='수망일기'].index, '메뉴분류'] = '카페'"
   ]
  },
  {
   "cell_type": "code",
   "execution_count": 66,
   "metadata": {},
   "outputs": [],
   "source": [
    "# 숨비나리카페/제스토리/나나이로 아코제주는 정보오류이므로 삭제\n",
    "del_index = df[(df['상호명']=='숨비나리카페') | (df['상호명']=='제스토리') | (df['상호명']=='나나이로 아코제주')].index\n",
    "df = df.drop(del_index)"
   ]
  },
  {
   "cell_type": "code",
   "execution_count": 67,
   "metadata": {},
   "outputs": [],
   "source": [
    "# 13가지 카테고리로 메뉴분류 구분\n",
    "cat1 = ['삼계탕', '한식', '한정식', '해장국', '국밥', '두부전문점', '추어', '아구', '찌개,전골', \n",
    "'매운탕,해물탕', '설렁탕', '순대', '죽', '기사식당', '감자탕', '퓨전요리', '닭요리']\n",
    "cat2 = ['스테이크,립', '양식', '이탈리안', '도시락']\n",
    "cat3 = ['중국요리', '중식']\n",
    "cat4 = ['돈까스,우동', '일식집', '일본식라면', '초밥,롤', '일식', '퓨전일식']\n",
    "cat5 = ['멕시칸,브라질', '인도음식', '베트남음식', '동남아음식', '아시아음식', '터키음식']\n",
    "cat6 = ['떡볶이', '분식']\n",
    "cat7 = ['치킨', '피자', '햄버거']\n",
    "cat8 = ['카페', '제과,베이커리', '아이스크림', '커피전문점', '디저트카페', '샌드위치', '떡,한과', \n",
    "'생과일전문점', '테마카페', '북카페', '전통찻집']\n",
    "cat9 = ['해산물', '해물,생선', '해산물뷔페', '회', '굴,전복', '게,대게', '조개']\n",
    "cat10 = ['육류,고기', '샤브샤브', '불고기,두루치기', '족발,보쌈', '갈비', '삼겹살']\n",
    "cat11 = ['뷔페', '한식뷔페']\n",
    "cat12 = ['국수', '냉면']\n",
    "cat13 = ['호프,요리주점', '일본식주점', '주류제조', '음료,주류제조']"
   ]
  },
  {
   "cell_type": "code",
   "execution_count": 68,
   "metadata": {},
   "outputs": [],
   "source": [
    "for idx, item in enumerate(df['메뉴분류']):\n",
    "    if item in cat1: df.loc[idx, '메뉴대분류'] = '한식'\n",
    "    elif item in cat2: df.loc[idx, '메뉴대분류'] = '양식'\n",
    "    elif item in cat3: df.loc[idx, '메뉴대분류'] = '중식'\n",
    "    elif item in cat4: df.loc[idx, '메뉴대분류'] = '일식'\n",
    "    elif item in cat5: df.loc[idx, '메뉴대분류'] = '아시아/기타'\n",
    "    elif item in cat6: df.loc[idx, '메뉴대분류'] = '분식'\n",
    "    elif item in cat7: df.loc[idx, '메뉴대분류'] = '치킨/피자/햄버거'\n",
    "    elif item in cat8: df.loc[idx, '메뉴대분류'] = '카페/디저트'\n",
    "    elif item in cat9: df.loc[idx, '메뉴대분류'] = '해산물'\n",
    "    elif item in cat10: df.loc[idx, '메뉴대분류'] = '고기/구이/족발/보쌈'\n",
    "    elif item in cat11: df.loc[idx, '메뉴대분류'] = '뷔페'\n",
    "    elif item in cat12: df.loc[idx, '메뉴대분류'] = '국수'\n",
    "    elif item in cat13: df.loc[idx, '메뉴대분류'] = '주점'\n",
    "    else: print(\"카테고리가 없습니다.\")"
   ]
  },
  {
   "cell_type": "code",
   "execution_count": 69,
   "metadata": {},
   "outputs": [
    {
     "data": {
      "text/html": [
       "<div>\n",
       "<style scoped>\n",
       "    .dataframe tbody tr th:only-of-type {\n",
       "        vertical-align: middle;\n",
       "    }\n",
       "\n",
       "    .dataframe tbody tr th {\n",
       "        vertical-align: top;\n",
       "    }\n",
       "\n",
       "    .dataframe thead th {\n",
       "        text-align: right;\n",
       "    }\n",
       "</style>\n",
       "<table border=\"1\" class=\"dataframe\">\n",
       "  <thead>\n",
       "    <tr style=\"text-align: right;\">\n",
       "      <th></th>\n",
       "      <th>상호명</th>\n",
       "      <th>리뷰날짜</th>\n",
       "      <th>별점</th>\n",
       "      <th>메뉴분류</th>\n",
       "      <th>상세주소</th>\n",
       "      <th>노키즈존여부</th>\n",
       "      <th>예약가능여부</th>\n",
       "      <th>메뉴대분류</th>\n",
       "    </tr>\n",
       "  </thead>\n",
       "  <tbody>\n",
       "    <tr>\n",
       "      <th>40075</th>\n",
       "      <td>당케올레국수</td>\n",
       "      <td>2020.04.26</td>\n",
       "      <td>100.0</td>\n",
       "      <td>한식</td>\n",
       "      <td>제주특별자치도 서귀포시 표선면 민속해안로 584</td>\n",
       "      <td>y</td>\n",
       "      <td>n</td>\n",
       "      <td>NaN</td>\n",
       "    </tr>\n",
       "    <tr>\n",
       "      <th>24018</th>\n",
       "      <td>커피파인더</td>\n",
       "      <td>2021.06.23</td>\n",
       "      <td>100.0</td>\n",
       "      <td>커피전문점</td>\n",
       "      <td>제주특별자치도 제주시 서광로32길 20 1층</td>\n",
       "      <td>unknown</td>\n",
       "      <td>unknown</td>\n",
       "      <td>카페/디저트</td>\n",
       "    </tr>\n",
       "    <tr>\n",
       "      <th>18850</th>\n",
       "      <td>성미가든</td>\n",
       "      <td>2020.07.25</td>\n",
       "      <td>20.0</td>\n",
       "      <td>닭요리</td>\n",
       "      <td>제주특별자치도 제주시 조천읍 교래1길 2</td>\n",
       "      <td>unknown</td>\n",
       "      <td>unknown</td>\n",
       "      <td>해산물</td>\n",
       "    </tr>\n",
       "    <tr>\n",
       "      <th>21528</th>\n",
       "      <td>맛나식당</td>\n",
       "      <td>2019.03.14</td>\n",
       "      <td>60.0</td>\n",
       "      <td>해물,생선</td>\n",
       "      <td>제주특별자치도 서귀포시 성산읍 동류암로 41</td>\n",
       "      <td>unknown</td>\n",
       "      <td>unknown</td>\n",
       "      <td>해산물</td>\n",
       "    </tr>\n",
       "    <tr>\n",
       "      <th>2380</th>\n",
       "      <td>한림칼국수</td>\n",
       "      <td>2021.05.28</td>\n",
       "      <td>100.0</td>\n",
       "      <td>국수</td>\n",
       "      <td>제주특별자치도 제주시 한림읍 한림해안로 141</td>\n",
       "      <td>unknown</td>\n",
       "      <td>unknown</td>\n",
       "      <td>해산물</td>\n",
       "    </tr>\n",
       "  </tbody>\n",
       "</table>\n",
       "</div>"
      ],
      "text/plain": [
       "          상호명        리뷰날짜     별점   메뉴분류                        상세주소   노키즈존여부  \\\n",
       "40075  당케올레국수  2020.04.26  100.0     한식  제주특별자치도 서귀포시 표선면 민속해안로 584        y   \n",
       "24018   커피파인더  2021.06.23  100.0  커피전문점    제주특별자치도 제주시 서광로32길 20 1층  unknown   \n",
       "18850    성미가든  2020.07.25   20.0    닭요리      제주특별자치도 제주시 조천읍 교래1길 2  unknown   \n",
       "21528    맛나식당  2019.03.14   60.0  해물,생선    제주특별자치도 서귀포시 성산읍 동류암로 41  unknown   \n",
       "2380    한림칼국수  2021.05.28  100.0     국수   제주특별자치도 제주시 한림읍 한림해안로 141  unknown   \n",
       "\n",
       "        예약가능여부   메뉴대분류  \n",
       "40075        n     NaN  \n",
       "24018  unknown  카페/디저트  \n",
       "18850  unknown     해산물  \n",
       "21528  unknown     해산물  \n",
       "2380   unknown     해산물  "
      ]
     },
     "execution_count": 69,
     "metadata": {},
     "output_type": "execute_result"
    }
   ],
   "source": [
    "df.sample(5)"
   ]
  },
  {
   "cell_type": "code",
   "execution_count": 70,
   "metadata": {},
   "outputs": [
    {
     "data": {
      "text/plain": [
       "상호명       6901\n",
       "리뷰날짜      6901\n",
       "별점        6901\n",
       "메뉴분류      6901\n",
       "상세주소      6901\n",
       "노키즈존여부    6901\n",
       "예약가능여부    6901\n",
       "메뉴대분류     6901\n",
       "dtype: int64"
      ]
     },
     "execution_count": 70,
     "metadata": {},
     "output_type": "execute_result"
    }
   ],
   "source": [
    "# 메뉴대분류 생성으로 인해 발생한 결측치 다시 제거\n",
    "df.isnull().sum()"
   ]
  },
  {
   "cell_type": "code",
   "execution_count": 71,
   "metadata": {},
   "outputs": [],
   "source": [
    "df = df.dropna()"
   ]
  },
  {
   "cell_type": "code",
   "execution_count": 72,
   "metadata": {},
   "outputs": [
    {
     "data": {
      "text/plain": [
       "상호명       0\n",
       "리뷰날짜      0\n",
       "별점        0\n",
       "메뉴분류      0\n",
       "상세주소      0\n",
       "노키즈존여부    0\n",
       "예약가능여부    0\n",
       "메뉴대분류     0\n",
       "dtype: int64"
      ]
     },
     "execution_count": 72,
     "metadata": {},
     "output_type": "execute_result"
    }
   ],
   "source": [
    "df.isnull().sum()"
   ]
  },
  {
   "cell_type": "markdown",
   "metadata": {},
   "source": [
    "- 리뷰작성연도 추가"
   ]
  },
  {
   "cell_type": "code",
   "execution_count": 73,
   "metadata": {},
   "outputs": [],
   "source": [
    "# 리뷰날짜 타입 변경\n",
    "df['리뷰날짜'] = pd.to_datetime(df['리뷰날짜'])"
   ]
  },
  {
   "cell_type": "code",
   "execution_count": 74,
   "metadata": {},
   "outputs": [
    {
     "data": {
      "text/plain": [
       "count                            26062\n",
       "mean     2020-11-09 01:40:20.351469568\n",
       "min                2015-11-24 00:00:00\n",
       "25%                2020-02-22 06:00:00\n",
       "50%                2021-02-28 00:00:00\n",
       "75%                2021-11-24 00:00:00\n",
       "max                2022-08-27 00:00:00\n",
       "Name: 리뷰날짜, dtype: object"
      ]
     },
     "execution_count": 74,
     "metadata": {},
     "output_type": "execute_result"
    }
   ],
   "source": [
    "# 리뷰날짜 범위 확인\n",
    "df['리뷰날짜'].describe(datetime_is_numeric=True)"
   ]
  },
  {
   "cell_type": "code",
   "execution_count": 75,
   "metadata": {},
   "outputs": [],
   "source": [
    "# 리뷰날짜 카테고리 분류: 2010년대/2020년/2021년/2022년\n",
    "idx22 = df[df['리뷰날짜'].dt.year == 2022].index\n",
    "idx21 = df[df['리뷰날짜'].dt.year == 2021].index\n",
    "idx20 = df[df['리뷰날짜'].dt.year == 2020].index\n",
    "idx10 = df[df['리뷰날짜'].dt.year < 2020].index\n",
    "\n",
    "df.loc[idx22, '리뷰작성연도'] = 2022\n",
    "df.loc[idx21, '리뷰작성연도'] = 2021\n",
    "df.loc[idx20, '리뷰작성연도'] = 2020\n",
    "df.loc[idx10, '리뷰작성연도'] = 2019"
   ]
  },
  {
   "cell_type": "code",
   "execution_count": 76,
   "metadata": {},
   "outputs": [
    {
     "data": {
      "text/html": [
       "<div>\n",
       "<style scoped>\n",
       "    .dataframe tbody tr th:only-of-type {\n",
       "        vertical-align: middle;\n",
       "    }\n",
       "\n",
       "    .dataframe tbody tr th {\n",
       "        vertical-align: top;\n",
       "    }\n",
       "\n",
       "    .dataframe thead th {\n",
       "        text-align: right;\n",
       "    }\n",
       "</style>\n",
       "<table border=\"1\" class=\"dataframe\">\n",
       "  <thead>\n",
       "    <tr style=\"text-align: right;\">\n",
       "      <th></th>\n",
       "      <th>상호명</th>\n",
       "      <th>리뷰날짜</th>\n",
       "      <th>별점</th>\n",
       "      <th>메뉴분류</th>\n",
       "      <th>상세주소</th>\n",
       "      <th>노키즈존여부</th>\n",
       "      <th>예약가능여부</th>\n",
       "      <th>메뉴대분류</th>\n",
       "      <th>리뷰작성연도</th>\n",
       "    </tr>\n",
       "  </thead>\n",
       "  <tbody>\n",
       "    <tr>\n",
       "      <th>11999</th>\n",
       "      <td>윤옥</td>\n",
       "      <td>2021-08-12</td>\n",
       "      <td>100.0</td>\n",
       "      <td>일본식라면</td>\n",
       "      <td>제주특별자치도 제주시 구남동2길 19-4 혁진빌 1층</td>\n",
       "      <td>y</td>\n",
       "      <td>n</td>\n",
       "      <td>카페/디저트</td>\n",
       "      <td>2021.0</td>\n",
       "    </tr>\n",
       "    <tr>\n",
       "      <th>1613</th>\n",
       "      <td>키친오즈</td>\n",
       "      <td>2022-02-23</td>\n",
       "      <td>60.0</td>\n",
       "      <td>카페</td>\n",
       "      <td>제주특별자치도 제주시 한림읍 협재로 208</td>\n",
       "      <td>unknown</td>\n",
       "      <td>unknown</td>\n",
       "      <td>국수</td>\n",
       "      <td>2022.0</td>\n",
       "    </tr>\n",
       "    <tr>\n",
       "      <th>25337</th>\n",
       "      <td>오는정김밥</td>\n",
       "      <td>2018-06-09</td>\n",
       "      <td>20.0</td>\n",
       "      <td>분식</td>\n",
       "      <td>제주특별자치도 서귀포시 동문동로 2</td>\n",
       "      <td>unknown</td>\n",
       "      <td>unknown</td>\n",
       "      <td>고기/구이/족발/보쌈</td>\n",
       "      <td>2019.0</td>\n",
       "    </tr>\n",
       "    <tr>\n",
       "      <th>10938</th>\n",
       "      <td>전설의마녀</td>\n",
       "      <td>2020-07-19</td>\n",
       "      <td>20.0</td>\n",
       "      <td>돈까스,우동</td>\n",
       "      <td>제주특별자치도 제주시 애월읍 애월해안로 715 2층</td>\n",
       "      <td>unknown</td>\n",
       "      <td>unknown</td>\n",
       "      <td>일식</td>\n",
       "      <td>2020.0</td>\n",
       "    </tr>\n",
       "    <tr>\n",
       "      <th>18844</th>\n",
       "      <td>성미가든</td>\n",
       "      <td>2021-04-16</td>\n",
       "      <td>100.0</td>\n",
       "      <td>닭요리</td>\n",
       "      <td>제주특별자치도 제주시 조천읍 교래1길 2</td>\n",
       "      <td>unknown</td>\n",
       "      <td>unknown</td>\n",
       "      <td>해산물</td>\n",
       "      <td>2021.0</td>\n",
       "    </tr>\n",
       "  </tbody>\n",
       "</table>\n",
       "</div>"
      ],
      "text/plain": [
       "         상호명       리뷰날짜     별점    메뉴분류                           상세주소  \\\n",
       "11999     윤옥 2021-08-12  100.0   일본식라면  제주특별자치도 제주시 구남동2길 19-4 혁진빌 1층   \n",
       "1613    키친오즈 2022-02-23   60.0      카페        제주특별자치도 제주시 한림읍 협재로 208   \n",
       "25337  오는정김밥 2018-06-09   20.0      분식            제주특별자치도 서귀포시 동문동로 2   \n",
       "10938  전설의마녀 2020-07-19   20.0  돈까스,우동   제주특별자치도 제주시 애월읍 애월해안로 715 2층   \n",
       "18844   성미가든 2021-04-16  100.0     닭요리         제주특별자치도 제주시 조천읍 교래1길 2   \n",
       "\n",
       "        노키즈존여부   예약가능여부        메뉴대분류  리뷰작성연도  \n",
       "11999        y        n       카페/디저트  2021.0  \n",
       "1613   unknown  unknown           국수  2022.0  \n",
       "25337  unknown  unknown  고기/구이/족발/보쌈  2019.0  \n",
       "10938  unknown  unknown           일식  2020.0  \n",
       "18844  unknown  unknown          해산물  2021.0  "
      ]
     },
     "execution_count": 76,
     "metadata": {},
     "output_type": "execute_result"
    }
   ],
   "source": [
    "df.sample(5)"
   ]
  },
  {
   "cell_type": "markdown",
   "metadata": {},
   "source": [
    "- 위치 추가"
   ]
  },
  {
   "cell_type": "code",
   "execution_count": 77,
   "metadata": {},
   "outputs": [],
   "source": [
    "# 상세주소를 통한 대략적인 위치(읍/면) 추가\n",
    "locations = ['애월', '한림', '한경', '대정', '안덕', '남원', '표선', '성산', '구좌', '조천', '우도', '추자']\n",
    "\n",
    "for loc in locations:\n",
    "    tmpindex = df[df['상세주소'].str.contains(loc)].index\n",
    "    df.loc[tmpindex, '위치'] = loc"
   ]
  },
  {
   "cell_type": "code",
   "execution_count": 78,
   "metadata": {},
   "outputs": [],
   "source": [
    "# 추가 위치(제주시/서귀포시) 추가\n",
    "noloc_df = df[df['위치'].isnull()]\n",
    "\n",
    "locations = ['제주', '서귀포']\n",
    "\n",
    "for loc in locations:\n",
    "    tmpindex = noloc_df[noloc_df['상세주소'].str.contains(loc)].index\n",
    "    df.loc[tmpindex, '위치'] = loc"
   ]
  },
  {
   "cell_type": "code",
   "execution_count": 79,
   "metadata": {},
   "outputs": [
    {
     "data": {
      "text/html": [
       "<div>\n",
       "<style scoped>\n",
       "    .dataframe tbody tr th:only-of-type {\n",
       "        vertical-align: middle;\n",
       "    }\n",
       "\n",
       "    .dataframe tbody tr th {\n",
       "        vertical-align: top;\n",
       "    }\n",
       "\n",
       "    .dataframe thead th {\n",
       "        text-align: right;\n",
       "    }\n",
       "</style>\n",
       "<table border=\"1\" class=\"dataframe\">\n",
       "  <thead>\n",
       "    <tr style=\"text-align: right;\">\n",
       "      <th></th>\n",
       "      <th>상호명</th>\n",
       "      <th>리뷰날짜</th>\n",
       "      <th>별점</th>\n",
       "      <th>메뉴분류</th>\n",
       "      <th>상세주소</th>\n",
       "      <th>노키즈존여부</th>\n",
       "      <th>예약가능여부</th>\n",
       "      <th>메뉴대분류</th>\n",
       "      <th>리뷰작성연도</th>\n",
       "      <th>위치</th>\n",
       "    </tr>\n",
       "  </thead>\n",
       "  <tbody>\n",
       "    <tr>\n",
       "      <th>3125</th>\n",
       "      <td>낭뜰에쉼팡</td>\n",
       "      <td>2021-06-27</td>\n",
       "      <td>100.0</td>\n",
       "      <td>한식</td>\n",
       "      <td>제주특별자치도 제주시 조천읍 남조로 2343</td>\n",
       "      <td>unknown</td>\n",
       "      <td>unknown</td>\n",
       "      <td>국수</td>\n",
       "      <td>2021.0</td>\n",
       "      <td>조천</td>\n",
       "    </tr>\n",
       "    <tr>\n",
       "      <th>14434</th>\n",
       "      <td>오드랑베이커리</td>\n",
       "      <td>2020-11-11</td>\n",
       "      <td>80.0</td>\n",
       "      <td>제과,베이커리</td>\n",
       "      <td>제주특별자치도 제주시 조천읍 조함해안로 552-3 1층</td>\n",
       "      <td>unknown</td>\n",
       "      <td>unknown</td>\n",
       "      <td>분식</td>\n",
       "      <td>2020.0</td>\n",
       "      <td>조천</td>\n",
       "    </tr>\n",
       "    <tr>\n",
       "      <th>17973</th>\n",
       "      <td>청운식당</td>\n",
       "      <td>2022-07-19</td>\n",
       "      <td>100.0</td>\n",
       "      <td>한식</td>\n",
       "      <td>제주특별자치도 서귀포시 성산읍 일출로 285 1층</td>\n",
       "      <td>unknown</td>\n",
       "      <td>y</td>\n",
       "      <td>양식</td>\n",
       "      <td>2022.0</td>\n",
       "      <td>성산</td>\n",
       "    </tr>\n",
       "    <tr>\n",
       "      <th>32942</th>\n",
       "      <td>카페 라라라</td>\n",
       "      <td>2021-10-02</td>\n",
       "      <td>100.0</td>\n",
       "      <td>카페</td>\n",
       "      <td>제주특별자치도 제주시 구좌읍 해맞이해안로 1430 1층</td>\n",
       "      <td>y</td>\n",
       "      <td>n</td>\n",
       "      <td>한식</td>\n",
       "      <td>2021.0</td>\n",
       "      <td>구좌</td>\n",
       "    </tr>\n",
       "    <tr>\n",
       "      <th>4764</th>\n",
       "      <td>생이소리</td>\n",
       "      <td>2020-05-26</td>\n",
       "      <td>100.0</td>\n",
       "      <td>한식</td>\n",
       "      <td>제주특별자치도 제주시 명림로 241</td>\n",
       "      <td>unknown</td>\n",
       "      <td>unknown</td>\n",
       "      <td>중식</td>\n",
       "      <td>2020.0</td>\n",
       "      <td>제주</td>\n",
       "    </tr>\n",
       "  </tbody>\n",
       "</table>\n",
       "</div>"
      ],
      "text/plain": [
       "           상호명       리뷰날짜     별점     메뉴분류                            상세주소  \\\n",
       "3125     낭뜰에쉼팡 2021-06-27  100.0       한식        제주특별자치도 제주시 조천읍 남조로 2343   \n",
       "14434  오드랑베이커리 2020-11-11   80.0  제과,베이커리  제주특별자치도 제주시 조천읍 조함해안로 552-3 1층   \n",
       "17973     청운식당 2022-07-19  100.0       한식     제주특별자치도 서귀포시 성산읍 일출로 285 1층   \n",
       "32942   카페 라라라 2021-10-02  100.0       카페  제주특별자치도 제주시 구좌읍 해맞이해안로 1430 1층   \n",
       "4764      생이소리 2020-05-26  100.0       한식             제주특별자치도 제주시 명림로 241   \n",
       "\n",
       "        노키즈존여부   예약가능여부 메뉴대분류  리뷰작성연도  위치  \n",
       "3125   unknown  unknown    국수  2021.0  조천  \n",
       "14434  unknown  unknown    분식  2020.0  조천  \n",
       "17973  unknown        y    양식  2022.0  성산  \n",
       "32942        y        n    한식  2021.0  구좌  \n",
       "4764   unknown  unknown    중식  2020.0  제주  "
      ]
     },
     "execution_count": 79,
     "metadata": {},
     "output_type": "execute_result"
    }
   ],
   "source": [
    "df.sample(5)"
   ]
  },
  {
   "cell_type": "code",
   "execution_count": 80,
   "metadata": {},
   "outputs": [
    {
     "data": {
      "text/plain": [
       "49"
      ]
     },
     "execution_count": 80,
     "metadata": {},
     "output_type": "execute_result"
    }
   ],
   "source": [
    "# 위치 null값 확인\n",
    "df['위치'].isnull().sum()"
   ]
  },
  {
   "cell_type": "code",
   "execution_count": 81,
   "metadata": {},
   "outputs": [
    {
     "data": {
      "text/html": [
       "<div>\n",
       "<style scoped>\n",
       "    .dataframe tbody tr th:only-of-type {\n",
       "        vertical-align: middle;\n",
       "    }\n",
       "\n",
       "    .dataframe tbody tr th {\n",
       "        vertical-align: top;\n",
       "    }\n",
       "\n",
       "    .dataframe thead th {\n",
       "        text-align: right;\n",
       "    }\n",
       "</style>\n",
       "<table border=\"1\" class=\"dataframe\">\n",
       "  <thead>\n",
       "    <tr style=\"text-align: right;\">\n",
       "      <th></th>\n",
       "      <th>상호명</th>\n",
       "      <th>리뷰날짜</th>\n",
       "      <th>별점</th>\n",
       "      <th>메뉴분류</th>\n",
       "      <th>상세주소</th>\n",
       "      <th>노키즈존여부</th>\n",
       "      <th>예약가능여부</th>\n",
       "      <th>메뉴대분류</th>\n",
       "      <th>리뷰작성연도</th>\n",
       "      <th>위치</th>\n",
       "    </tr>\n",
       "  </thead>\n",
       "  <tbody>\n",
       "    <tr>\n",
       "      <th>14663</th>\n",
       "      <td>서민흑돼지</td>\n",
       "      <td>2022-06-30</td>\n",
       "      <td>60.0</td>\n",
       "      <td>갈비</td>\n",
       "      <td>대구 수성구 들안로 8-5</td>\n",
       "      <td>unknown</td>\n",
       "      <td>unknown</td>\n",
       "      <td>한식</td>\n",
       "      <td>2022.0</td>\n",
       "      <td>NaN</td>\n",
       "    </tr>\n",
       "    <tr>\n",
       "      <th>14664</th>\n",
       "      <td>서민흑돼지</td>\n",
       "      <td>2022-05-26</td>\n",
       "      <td>80.0</td>\n",
       "      <td>갈비</td>\n",
       "      <td>대구 수성구 들안로 8-5</td>\n",
       "      <td>unknown</td>\n",
       "      <td>unknown</td>\n",
       "      <td>한식</td>\n",
       "      <td>2022.0</td>\n",
       "      <td>NaN</td>\n",
       "    </tr>\n",
       "    <tr>\n",
       "      <th>14665</th>\n",
       "      <td>서민흑돼지</td>\n",
       "      <td>2022-04-24</td>\n",
       "      <td>20.0</td>\n",
       "      <td>갈비</td>\n",
       "      <td>대구 수성구 들안로 8-5</td>\n",
       "      <td>unknown</td>\n",
       "      <td>unknown</td>\n",
       "      <td>한식</td>\n",
       "      <td>2022.0</td>\n",
       "      <td>NaN</td>\n",
       "    </tr>\n",
       "    <tr>\n",
       "      <th>14666</th>\n",
       "      <td>서민흑돼지</td>\n",
       "      <td>2022-04-18</td>\n",
       "      <td>60.0</td>\n",
       "      <td>갈비</td>\n",
       "      <td>대구 수성구 들안로 8-5</td>\n",
       "      <td>unknown</td>\n",
       "      <td>unknown</td>\n",
       "      <td>한식</td>\n",
       "      <td>2022.0</td>\n",
       "      <td>NaN</td>\n",
       "    </tr>\n",
       "    <tr>\n",
       "      <th>14667</th>\n",
       "      <td>서민흑돼지</td>\n",
       "      <td>2022-04-02</td>\n",
       "      <td>100.0</td>\n",
       "      <td>갈비</td>\n",
       "      <td>대구 수성구 들안로 8-5</td>\n",
       "      <td>unknown</td>\n",
       "      <td>unknown</td>\n",
       "      <td>한식</td>\n",
       "      <td>2022.0</td>\n",
       "      <td>NaN</td>\n",
       "    </tr>\n",
       "  </tbody>\n",
       "</table>\n",
       "</div>"
      ],
      "text/plain": [
       "         상호명       리뷰날짜     별점 메뉴분류            상세주소   노키즈존여부   예약가능여부 메뉴대분류  \\\n",
       "14663  서민흑돼지 2022-06-30   60.0   갈비  대구 수성구 들안로 8-5  unknown  unknown    한식   \n",
       "14664  서민흑돼지 2022-05-26   80.0   갈비  대구 수성구 들안로 8-5  unknown  unknown    한식   \n",
       "14665  서민흑돼지 2022-04-24   20.0   갈비  대구 수성구 들안로 8-5  unknown  unknown    한식   \n",
       "14666  서민흑돼지 2022-04-18   60.0   갈비  대구 수성구 들안로 8-5  unknown  unknown    한식   \n",
       "14667  서민흑돼지 2022-04-02  100.0   갈비  대구 수성구 들안로 8-5  unknown  unknown    한식   \n",
       "\n",
       "       리뷰작성연도   위치  \n",
       "14663  2022.0  NaN  \n",
       "14664  2022.0  NaN  \n",
       "14665  2022.0  NaN  \n",
       "14666  2022.0  NaN  \n",
       "14667  2022.0  NaN  "
      ]
     },
     "execution_count": 81,
     "metadata": {},
     "output_type": "execute_result"
    }
   ],
   "source": [
    "df[df['위치'].isnull()].head()"
   ]
  },
  {
   "cell_type": "code",
   "execution_count": 82,
   "metadata": {},
   "outputs": [],
   "source": [
    "# 잘못된 데이터이므로 삭제\n",
    "del_index = df[df['위치'].isnull()].index\n",
    "df = df.drop(del_index)"
   ]
  },
  {
   "cell_type": "markdown",
   "metadata": {},
   "source": [
    "- 모델링 시 불필요한 컬럼 삭제"
   ]
  },
  {
   "cell_type": "code",
   "execution_count": 83,
   "metadata": {},
   "outputs": [],
   "source": [
    "del_colunm = ['리뷰날짜', '메뉴분류', '상세주소']\n",
    "df_new = df.drop(del_colunm, axis=1)"
   ]
  },
  {
   "cell_type": "code",
   "execution_count": 84,
   "metadata": {},
   "outputs": [
    {
     "data": {
      "text/html": [
       "<div>\n",
       "<style scoped>\n",
       "    .dataframe tbody tr th:only-of-type {\n",
       "        vertical-align: middle;\n",
       "    }\n",
       "\n",
       "    .dataframe tbody tr th {\n",
       "        vertical-align: top;\n",
       "    }\n",
       "\n",
       "    .dataframe thead th {\n",
       "        text-align: right;\n",
       "    }\n",
       "</style>\n",
       "<table border=\"1\" class=\"dataframe\">\n",
       "  <thead>\n",
       "    <tr style=\"text-align: right;\">\n",
       "      <th></th>\n",
       "      <th>상호명</th>\n",
       "      <th>별점</th>\n",
       "      <th>노키즈존여부</th>\n",
       "      <th>예약가능여부</th>\n",
       "      <th>메뉴대분류</th>\n",
       "      <th>리뷰작성연도</th>\n",
       "      <th>위치</th>\n",
       "    </tr>\n",
       "  </thead>\n",
       "  <tbody>\n",
       "    <tr>\n",
       "      <th>9993</th>\n",
       "      <td>톰톰카레</td>\n",
       "      <td>40.0</td>\n",
       "      <td>unknown</td>\n",
       "      <td>unknown</td>\n",
       "      <td>일식</td>\n",
       "      <td>2019.0</td>\n",
       "      <td>구좌</td>\n",
       "    </tr>\n",
       "    <tr>\n",
       "      <th>13954</th>\n",
       "      <td>중문신라원</td>\n",
       "      <td>20.0</td>\n",
       "      <td>unknown</td>\n",
       "      <td>unknown</td>\n",
       "      <td>국수</td>\n",
       "      <td>2022.0</td>\n",
       "      <td>서귀포</td>\n",
       "    </tr>\n",
       "    <tr>\n",
       "      <th>6055</th>\n",
       "      <td>신산리마을카페</td>\n",
       "      <td>80.0</td>\n",
       "      <td>unknown</td>\n",
       "      <td>unknown</td>\n",
       "      <td>해산물</td>\n",
       "      <td>2020.0</td>\n",
       "      <td>성산</td>\n",
       "    </tr>\n",
       "    <tr>\n",
       "      <th>28024</th>\n",
       "      <td>쉐프의스시이야기</td>\n",
       "      <td>80.0</td>\n",
       "      <td>y</td>\n",
       "      <td>y</td>\n",
       "      <td>해산물</td>\n",
       "      <td>2022.0</td>\n",
       "      <td>제주</td>\n",
       "    </tr>\n",
       "    <tr>\n",
       "      <th>1598</th>\n",
       "      <td>모모제이</td>\n",
       "      <td>80.0</td>\n",
       "      <td>y</td>\n",
       "      <td>y</td>\n",
       "      <td>국수</td>\n",
       "      <td>2019.0</td>\n",
       "      <td>제주</td>\n",
       "    </tr>\n",
       "    <tr>\n",
       "      <th>26564</th>\n",
       "      <td>무상찻집</td>\n",
       "      <td>100.0</td>\n",
       "      <td>n</td>\n",
       "      <td>unknown</td>\n",
       "      <td>카페/디저트</td>\n",
       "      <td>2021.0</td>\n",
       "      <td>제주</td>\n",
       "    </tr>\n",
       "    <tr>\n",
       "      <th>21727</th>\n",
       "      <td>와랑와랑카페</td>\n",
       "      <td>100.0</td>\n",
       "      <td>unknown</td>\n",
       "      <td>unknown</td>\n",
       "      <td>양식</td>\n",
       "      <td>2019.0</td>\n",
       "      <td>남원</td>\n",
       "    </tr>\n",
       "    <tr>\n",
       "      <th>1604</th>\n",
       "      <td>모모제이</td>\n",
       "      <td>100.0</td>\n",
       "      <td>y</td>\n",
       "      <td>y</td>\n",
       "      <td>국수</td>\n",
       "      <td>2019.0</td>\n",
       "      <td>제주</td>\n",
       "    </tr>\n",
       "    <tr>\n",
       "      <th>1095</th>\n",
       "      <td>보스코화덕피자</td>\n",
       "      <td>100.0</td>\n",
       "      <td>unknown</td>\n",
       "      <td>unknown</td>\n",
       "      <td>해산물</td>\n",
       "      <td>2021.0</td>\n",
       "      <td>제주</td>\n",
       "    </tr>\n",
       "    <tr>\n",
       "      <th>32916</th>\n",
       "      <td>카페 라라라</td>\n",
       "      <td>100.0</td>\n",
       "      <td>y</td>\n",
       "      <td>n</td>\n",
       "      <td>한식</td>\n",
       "      <td>2021.0</td>\n",
       "      <td>구좌</td>\n",
       "    </tr>\n",
       "  </tbody>\n",
       "</table>\n",
       "</div>"
      ],
      "text/plain": [
       "            상호명     별점   노키즈존여부   예약가능여부   메뉴대분류  리뷰작성연도   위치\n",
       "9993       톰톰카레   40.0  unknown  unknown      일식  2019.0   구좌\n",
       "13954     중문신라원   20.0  unknown  unknown      국수  2022.0  서귀포\n",
       "6055    신산리마을카페   80.0  unknown  unknown     해산물  2020.0   성산\n",
       "28024  쉐프의스시이야기   80.0        y        y     해산물  2022.0   제주\n",
       "1598       모모제이   80.0        y        y      국수  2019.0   제주\n",
       "26564      무상찻집  100.0        n  unknown  카페/디저트  2021.0   제주\n",
       "21727    와랑와랑카페  100.0  unknown  unknown      양식  2019.0   남원\n",
       "1604       모모제이  100.0        y        y      국수  2019.0   제주\n",
       "1095    보스코화덕피자  100.0  unknown  unknown     해산물  2021.0   제주\n",
       "32916    카페 라라라  100.0        y        n      한식  2021.0   구좌"
      ]
     },
     "execution_count": 84,
     "metadata": {},
     "output_type": "execute_result"
    }
   ],
   "source": [
    "df_new.sample(10)"
   ]
  },
  {
   "cell_type": "code",
   "execution_count": 85,
   "metadata": {},
   "outputs": [
    {
     "data": {
      "text/plain": [
       "(26013, 7)"
      ]
     },
     "execution_count": 85,
     "metadata": {},
     "output_type": "execute_result"
    }
   ],
   "source": [
    "df_new.shape"
   ]
  },
  {
   "cell_type": "code",
   "execution_count": 86,
   "metadata": {},
   "outputs": [],
   "source": [
    "# DB에 modelingdata 테이블로 저장\n",
    "DB_FILENAME = 'projectDB.db'\n",
    "conn = sqlite3.connect(DB_FILENAME)\n",
    "cur = conn.cursor()\n",
    "cur.execute(\"DROP TABLE IF EXISTS modelingdata;\")\n",
    "df_new.to_sql('modelingdata', conn)\n",
    "cur.close()\n",
    "conn.close()"
   ]
  },
  {
   "cell_type": "markdown",
   "metadata": {},
   "source": [
    "#### 머신러닝 모델링"
   ]
  },
  {
   "cell_type": "markdown",
   "metadata": {},
   "source": [
    "- train/val/test 분리"
   ]
  },
  {
   "cell_type": "code",
   "execution_count": 87,
   "metadata": {},
   "outputs": [
    {
     "data": {
      "text/plain": [
       "((15607, 7), (5203, 7), (5203, 7))"
      ]
     },
     "execution_count": 87,
     "metadata": {},
     "output_type": "execute_result"
    }
   ],
   "source": [
    "# train/val/test = 0.6/0.2/0/2\n",
    "train, test = train_test_split(df_new, test_size=0.4, random_state=14)\n",
    "val, test = train_test_split(test, test_size=0.5, random_state=14)\n",
    "\n",
    "train.shape, val.shape, test.shape"
   ]
  },
  {
   "cell_type": "code",
   "execution_count": 88,
   "metadata": {},
   "outputs": [],
   "source": [
    "# target/feature\n",
    "target = '상호명'\n",
    "features = df_new.drop(target, axis=1).columns\n",
    "\n",
    "X_train, y_train = train[features], train[target]\n",
    "X_val, y_val = val[features], val[target]\n",
    "X_test, y_test = test[features], test[target]"
   ]
  },
  {
   "cell_type": "markdown",
   "metadata": {},
   "source": [
    "- 모델선정"
   ]
  },
  {
   "cell_type": "code",
   "execution_count": 89,
   "metadata": {},
   "outputs": [
    {
     "data": {
      "text/plain": [
       "우진해장국         0.029730\n",
       "오는정김밥         0.022810\n",
       "깡촌흑돼지         0.016787\n",
       "오드랑베이커리       0.015442\n",
       "중문수두리보말칼국수    0.014801\n",
       "                ...   \n",
       "잇칸시타          0.000128\n",
       "마마무말가든        0.000128\n",
       "다람쥐 식탁        0.000128\n",
       "천리식당          0.000128\n",
       "몬스테라 자구리      0.000064\n",
       "Name: 상호명, Length: 416, dtype: float64"
      ]
     },
     "execution_count": 89,
     "metadata": {},
     "output_type": "execute_result"
    }
   ],
   "source": [
    "# 기준모델 = 최빈값\n",
    "train[target].value_counts(normalize=True)"
   ]
  },
  {
   "cell_type": "code",
   "execution_count": 92,
   "metadata": {},
   "outputs": [
    {
     "data": {
      "text/html": [
       "<style>#sk-container-id-1 {color: black;background-color: white;}#sk-container-id-1 pre{padding: 0;}#sk-container-id-1 div.sk-toggleable {background-color: white;}#sk-container-id-1 label.sk-toggleable__label {cursor: pointer;display: block;width: 100%;margin-bottom: 0;padding: 0.3em;box-sizing: border-box;text-align: center;}#sk-container-id-1 label.sk-toggleable__label-arrow:before {content: \"▸\";float: left;margin-right: 0.25em;color: #696969;}#sk-container-id-1 label.sk-toggleable__label-arrow:hover:before {color: black;}#sk-container-id-1 div.sk-estimator:hover label.sk-toggleable__label-arrow:before {color: black;}#sk-container-id-1 div.sk-toggleable__content {max-height: 0;max-width: 0;overflow: hidden;text-align: left;background-color: #f0f8ff;}#sk-container-id-1 div.sk-toggleable__content pre {margin: 0.2em;color: black;border-radius: 0.25em;background-color: #f0f8ff;}#sk-container-id-1 input.sk-toggleable__control:checked~div.sk-toggleable__content {max-height: 200px;max-width: 100%;overflow: auto;}#sk-container-id-1 input.sk-toggleable__control:checked~label.sk-toggleable__label-arrow:before {content: \"▾\";}#sk-container-id-1 div.sk-estimator input.sk-toggleable__control:checked~label.sk-toggleable__label {background-color: #d4ebff;}#sk-container-id-1 div.sk-label input.sk-toggleable__control:checked~label.sk-toggleable__label {background-color: #d4ebff;}#sk-container-id-1 input.sk-hidden--visually {border: 0;clip: rect(1px 1px 1px 1px);clip: rect(1px, 1px, 1px, 1px);height: 1px;margin: -1px;overflow: hidden;padding: 0;position: absolute;width: 1px;}#sk-container-id-1 div.sk-estimator {font-family: monospace;background-color: #f0f8ff;border: 1px dotted black;border-radius: 0.25em;box-sizing: border-box;margin-bottom: 0.5em;}#sk-container-id-1 div.sk-estimator:hover {background-color: #d4ebff;}#sk-container-id-1 div.sk-parallel-item::after {content: \"\";width: 100%;border-bottom: 1px solid gray;flex-grow: 1;}#sk-container-id-1 div.sk-label:hover label.sk-toggleable__label {background-color: #d4ebff;}#sk-container-id-1 div.sk-serial::before {content: \"\";position: absolute;border-left: 1px solid gray;box-sizing: border-box;top: 0;bottom: 0;left: 50%;z-index: 0;}#sk-container-id-1 div.sk-serial {display: flex;flex-direction: column;align-items: center;background-color: white;padding-right: 0.2em;padding-left: 0.2em;position: relative;}#sk-container-id-1 div.sk-item {position: relative;z-index: 1;}#sk-container-id-1 div.sk-parallel {display: flex;align-items: stretch;justify-content: center;background-color: white;position: relative;}#sk-container-id-1 div.sk-item::before, #sk-container-id-1 div.sk-parallel-item::before {content: \"\";position: absolute;border-left: 1px solid gray;box-sizing: border-box;top: 0;bottom: 0;left: 50%;z-index: -1;}#sk-container-id-1 div.sk-parallel-item {display: flex;flex-direction: column;z-index: 1;position: relative;background-color: white;}#sk-container-id-1 div.sk-parallel-item:first-child::after {align-self: flex-end;width: 50%;}#sk-container-id-1 div.sk-parallel-item:last-child::after {align-self: flex-start;width: 50%;}#sk-container-id-1 div.sk-parallel-item:only-child::after {width: 0;}#sk-container-id-1 div.sk-dashed-wrapped {border: 1px dashed gray;margin: 0 0.4em 0.5em 0.4em;box-sizing: border-box;padding-bottom: 0.4em;background-color: white;}#sk-container-id-1 div.sk-label label {font-family: monospace;font-weight: bold;display: inline-block;line-height: 1.2em;}#sk-container-id-1 div.sk-label-container {text-align: center;}#sk-container-id-1 div.sk-container {/* jupyter's `normalize.less` sets `[hidden] { display: none; }` but bootstrap.min.css set `[hidden] { display: none !important; }` so we also need the `!important` here to be able to override the default hidden behavior on the sphinx rendered scikit-learn.org. See: https://github.com/scikit-learn/scikit-learn/issues/21755 */display: inline-block !important;position: relative;}#sk-container-id-1 div.sk-text-repr-fallback {display: none;}</style><div id=\"sk-container-id-1\" class=\"sk-top-container\"><div class=\"sk-text-repr-fallback\"><pre>Pipeline(steps=[(&#x27;ordinalencoder&#x27;,\n",
       "                 OrdinalEncoder(cols=[&#x27;노키즈존여부&#x27;, &#x27;예약가능여부&#x27;, &#x27;메뉴대분류&#x27;, &#x27;위치&#x27;],\n",
       "                                mapping=[{&#x27;col&#x27;: &#x27;노키즈존여부&#x27;,\n",
       "                                          &#x27;data_type&#x27;: dtype(&#x27;O&#x27;),\n",
       "                                          &#x27;mapping&#x27;: unknown    1\n",
       "y          2\n",
       "n          3\n",
       "NaN       -2\n",
       "dtype: int64},\n",
       "                                         {&#x27;col&#x27;: &#x27;예약가능여부&#x27;,\n",
       "                                          &#x27;data_type&#x27;: dtype(&#x27;O&#x27;),\n",
       "                                          &#x27;mapping&#x27;: unknown    1\n",
       "y          2\n",
       "n          3\n",
       "NaN       -2\n",
       "dtype: int64},\n",
       "                                         {&#x27;col&#x27;: &#x27;메뉴대분류&#x27;,\n",
       "                                          &#x27;data_type&#x27;: dtype(&#x27;O&#x27;),\n",
       "                                          &#x27;mapping&#x27;: 고기/구이/족발/보쌈     1\n",
       "카페/디저트          2\n",
       "중식              3\n",
       "일식              4\n",
       "한식              5\n",
       "국수              6\n",
       "해산물             7\n",
       "아시아/기타          8\n",
       "주점              9\n",
       "분식             10\n",
       "양식             11\n",
       "치킨/피자/햄버거      12\n",
       "뷔페             13\n",
       "NaN            -2\n",
       "dtype: int64},\n",
       "                                         {&#x27;col&#x27;: &#x27;위치&#x27;, &#x27;data_type&#x27;: dtype(&#x27;O&#x27;),\n",
       "                                          &#x27;mapping&#x27;: 애월      1\n",
       "한림      2\n",
       "제주      3\n",
       "구좌      4\n",
       "서귀포     5\n",
       "안덕      6\n",
       "대정      7\n",
       "남원      8\n",
       "조천      9\n",
       "성산     10\n",
       "한경     11\n",
       "우도     12\n",
       "표선     13\n",
       "NaN    -2\n",
       "dtype: int64}])),\n",
       "                (&#x27;decisiontreeclassifier&#x27;,\n",
       "                 DecisionTreeClassifier(random_state=14))])</pre><b>In a Jupyter environment, please rerun this cell to show the HTML representation or trust the notebook. <br />On GitHub, the HTML representation is unable to render, please try loading this page with nbviewer.org.</b></div><div class=\"sk-container\" hidden><div class=\"sk-item sk-dashed-wrapped\"><div class=\"sk-label-container\"><div class=\"sk-label sk-toggleable\"><input class=\"sk-toggleable__control sk-hidden--visually\" id=\"sk-estimator-id-1\" type=\"checkbox\" ><label for=\"sk-estimator-id-1\" class=\"sk-toggleable__label sk-toggleable__label-arrow\">Pipeline</label><div class=\"sk-toggleable__content\"><pre>Pipeline(steps=[(&#x27;ordinalencoder&#x27;,\n",
       "                 OrdinalEncoder(cols=[&#x27;노키즈존여부&#x27;, &#x27;예약가능여부&#x27;, &#x27;메뉴대분류&#x27;, &#x27;위치&#x27;],\n",
       "                                mapping=[{&#x27;col&#x27;: &#x27;노키즈존여부&#x27;,\n",
       "                                          &#x27;data_type&#x27;: dtype(&#x27;O&#x27;),\n",
       "                                          &#x27;mapping&#x27;: unknown    1\n",
       "y          2\n",
       "n          3\n",
       "NaN       -2\n",
       "dtype: int64},\n",
       "                                         {&#x27;col&#x27;: &#x27;예약가능여부&#x27;,\n",
       "                                          &#x27;data_type&#x27;: dtype(&#x27;O&#x27;),\n",
       "                                          &#x27;mapping&#x27;: unknown    1\n",
       "y          2\n",
       "n          3\n",
       "NaN       -2\n",
       "dtype: int64},\n",
       "                                         {&#x27;col&#x27;: &#x27;메뉴대분류&#x27;,\n",
       "                                          &#x27;data_type&#x27;: dtype(&#x27;O&#x27;),\n",
       "                                          &#x27;mapping&#x27;: 고기/구이/족발/보쌈     1\n",
       "카페/디저트          2\n",
       "중식              3\n",
       "일식              4\n",
       "한식              5\n",
       "국수              6\n",
       "해산물             7\n",
       "아시아/기타          8\n",
       "주점              9\n",
       "분식             10\n",
       "양식             11\n",
       "치킨/피자/햄버거      12\n",
       "뷔페             13\n",
       "NaN            -2\n",
       "dtype: int64},\n",
       "                                         {&#x27;col&#x27;: &#x27;위치&#x27;, &#x27;data_type&#x27;: dtype(&#x27;O&#x27;),\n",
       "                                          &#x27;mapping&#x27;: 애월      1\n",
       "한림      2\n",
       "제주      3\n",
       "구좌      4\n",
       "서귀포     5\n",
       "안덕      6\n",
       "대정      7\n",
       "남원      8\n",
       "조천      9\n",
       "성산     10\n",
       "한경     11\n",
       "우도     12\n",
       "표선     13\n",
       "NaN    -2\n",
       "dtype: int64}])),\n",
       "                (&#x27;decisiontreeclassifier&#x27;,\n",
       "                 DecisionTreeClassifier(random_state=14))])</pre></div></div></div><div class=\"sk-serial\"><div class=\"sk-item\"><div class=\"sk-estimator sk-toggleable\"><input class=\"sk-toggleable__control sk-hidden--visually\" id=\"sk-estimator-id-2\" type=\"checkbox\" ><label for=\"sk-estimator-id-2\" class=\"sk-toggleable__label sk-toggleable__label-arrow\">OrdinalEncoder</label><div class=\"sk-toggleable__content\"><pre>OrdinalEncoder(cols=[&#x27;노키즈존여부&#x27;, &#x27;예약가능여부&#x27;, &#x27;메뉴대분류&#x27;, &#x27;위치&#x27;],\n",
       "               mapping=[{&#x27;col&#x27;: &#x27;노키즈존여부&#x27;, &#x27;data_type&#x27;: dtype(&#x27;O&#x27;),\n",
       "                         &#x27;mapping&#x27;: unknown    1\n",
       "y          2\n",
       "n          3\n",
       "NaN       -2\n",
       "dtype: int64},\n",
       "                        {&#x27;col&#x27;: &#x27;예약가능여부&#x27;, &#x27;data_type&#x27;: dtype(&#x27;O&#x27;),\n",
       "                         &#x27;mapping&#x27;: unknown    1\n",
       "y          2\n",
       "n          3\n",
       "NaN       -2\n",
       "dtype: int64},\n",
       "                        {&#x27;col&#x27;: &#x27;메뉴대분류&#x27;, &#x27;data_type&#x27;: dtype(&#x27;O&#x27;),\n",
       "                         &#x27;mapping&#x27;: 고기/구이/족발/보쌈     1\n",
       "카페/디저트          2\n",
       "중식              3\n",
       "일식              4\n",
       "한식              5\n",
       "국수              6\n",
       "해산물             7\n",
       "아시아/기타          8\n",
       "주점              9\n",
       "분식             10\n",
       "양식             11\n",
       "치킨/피자/햄버거      12\n",
       "뷔페             13\n",
       "NaN            -2\n",
       "dtype: int64},\n",
       "                        {&#x27;col&#x27;: &#x27;위치&#x27;, &#x27;data_type&#x27;: dtype(&#x27;O&#x27;),\n",
       "                         &#x27;mapping&#x27;: 애월      1\n",
       "한림      2\n",
       "제주      3\n",
       "구좌      4\n",
       "서귀포     5\n",
       "안덕      6\n",
       "대정      7\n",
       "남원      8\n",
       "조천      9\n",
       "성산     10\n",
       "한경     11\n",
       "우도     12\n",
       "표선     13\n",
       "NaN    -2\n",
       "dtype: int64}])</pre></div></div></div><div class=\"sk-item\"><div class=\"sk-estimator sk-toggleable\"><input class=\"sk-toggleable__control sk-hidden--visually\" id=\"sk-estimator-id-3\" type=\"checkbox\" ><label for=\"sk-estimator-id-3\" class=\"sk-toggleable__label sk-toggleable__label-arrow\">DecisionTreeClassifier</label><div class=\"sk-toggleable__content\"><pre>DecisionTreeClassifier(random_state=14)</pre></div></div></div></div></div></div></div>"
      ],
      "text/plain": [
       "Pipeline(steps=[('ordinalencoder',\n",
       "                 OrdinalEncoder(cols=['노키즈존여부', '예약가능여부', '메뉴대분류', '위치'],\n",
       "                                mapping=[{'col': '노키즈존여부',\n",
       "                                          'data_type': dtype('O'),\n",
       "                                          'mapping': unknown    1\n",
       "y          2\n",
       "n          3\n",
       "NaN       -2\n",
       "dtype: int64},\n",
       "                                         {'col': '예약가능여부',\n",
       "                                          'data_type': dtype('O'),\n",
       "                                          'mapping': unknown    1\n",
       "y          2\n",
       "n          3\n",
       "NaN       -2\n",
       "dtype: int64},\n",
       "                                         {'col': '메뉴대분류',\n",
       "                                          'data_type': dtype('O'),\n",
       "                                          'mapping': 고기/구이/족발/보쌈     1\n",
       "카페/디저트          2\n",
       "중식              3\n",
       "일식              4\n",
       "한식              5\n",
       "국수              6\n",
       "해산물             7\n",
       "아시아/기타          8\n",
       "주점              9\n",
       "분식             10\n",
       "양식             11\n",
       "치킨/피자/햄버거      12\n",
       "뷔페             13\n",
       "NaN            -2\n",
       "dtype: int64},\n",
       "                                         {'col': '위치', 'data_type': dtype('O'),\n",
       "                                          'mapping': 애월      1\n",
       "한림      2\n",
       "제주      3\n",
       "구좌      4\n",
       "서귀포     5\n",
       "안덕      6\n",
       "대정      7\n",
       "남원      8\n",
       "조천      9\n",
       "성산     10\n",
       "한경     11\n",
       "우도     12\n",
       "표선     13\n",
       "NaN    -2\n",
       "dtype: int64}])),\n",
       "                ('decisiontreeclassifier',\n",
       "                 DecisionTreeClassifier(random_state=14))])"
      ]
     },
     "execution_count": 92,
     "metadata": {},
     "output_type": "execute_result"
    }
   ],
   "source": [
    "pipe = make_pipeline(\n",
    "    OrdinalEncoder(), \n",
    "    DecisionTreeClassifier(random_state=14)\n",
    ")\n",
    "\n",
    "pipe.fit(X_train, y_train)"
   ]
  },
  {
   "cell_type": "code",
   "execution_count": 93,
   "metadata": {},
   "outputs": [
    {
     "name": "stdout",
     "output_type": "stream",
     "text": [
      "결정트리 훈련 정확도:  0.609021592874992\n",
      "결정트리 검증 정확도:  0.5406496252162214\n"
     ]
    }
   ],
   "source": [
    "print('결정트리 훈련 정확도: ', pipe.score(X_train, y_train))\n",
    "print('결정트리 검증 정확도: ', pipe.score(X_val, y_val))"
   ]
  },
  {
   "cell_type": "markdown",
   "metadata": {},
   "source": [
    "- 모델해석"
   ]
  },
  {
   "cell_type": "code",
   "execution_count": 101,
   "metadata": {},
   "outputs": [
    {
     "name": "stdout",
     "output_type": "stream",
     "text": [
      "결정트리 테스트 정확도:  0.532961752834903\n"
     ]
    }
   ],
   "source": [
    "print('결정트리 테스트 정확도: ', pipe.score(X_test, y_test))"
   ]
  },
  {
   "cell_type": "code",
   "execution_count": 95,
   "metadata": {},
   "outputs": [],
   "source": [
    "# X_test의 예측값과 실제값 비교\n",
    "X_test_pred = pipe.predict(X_test)\n",
    "\n",
    "jejudf_compare = pd.DataFrame({\n",
    "    '예측값': X_test_pred,\n",
    "    '실제값': y_test\n",
    "})\n",
    "\n",
    "jejudf_compare = jejudf_compare.join(X_test[['별점', '노키즈존여부', '예약가능여부', '메뉴대분류', '리뷰작성연도', '위치']])"
   ]
  },
  {
   "cell_type": "code",
   "execution_count": 96,
   "metadata": {},
   "outputs": [
    {
     "data": {
      "text/html": [
       "<div>\n",
       "<style scoped>\n",
       "    .dataframe tbody tr th:only-of-type {\n",
       "        vertical-align: middle;\n",
       "    }\n",
       "\n",
       "    .dataframe tbody tr th {\n",
       "        vertical-align: top;\n",
       "    }\n",
       "\n",
       "    .dataframe thead th {\n",
       "        text-align: right;\n",
       "    }\n",
       "</style>\n",
       "<table border=\"1\" class=\"dataframe\">\n",
       "  <thead>\n",
       "    <tr style=\"text-align: right;\">\n",
       "      <th></th>\n",
       "      <th>예측값</th>\n",
       "      <th>실제값</th>\n",
       "      <th>별점</th>\n",
       "      <th>노키즈존여부</th>\n",
       "      <th>예약가능여부</th>\n",
       "      <th>메뉴대분류</th>\n",
       "      <th>리뷰작성연도</th>\n",
       "      <th>위치</th>\n",
       "      <th>예측비교</th>\n",
       "    </tr>\n",
       "  </thead>\n",
       "  <tbody>\n",
       "    <tr>\n",
       "      <th>31945</th>\n",
       "      <td>싱싱잇</td>\n",
       "      <td>싱싱잇</td>\n",
       "      <td>60.0</td>\n",
       "      <td>n</td>\n",
       "      <td>y</td>\n",
       "      <td>한식</td>\n",
       "      <td>2022.0</td>\n",
       "      <td>한림</td>\n",
       "      <td>True</td>\n",
       "    </tr>\n",
       "    <tr>\n",
       "      <th>23736</th>\n",
       "      <td>수카사</td>\n",
       "      <td>수카사</td>\n",
       "      <td>100.0</td>\n",
       "      <td>y</td>\n",
       "      <td>unknown</td>\n",
       "      <td>카페/디저트</td>\n",
       "      <td>2020.0</td>\n",
       "      <td>구좌</td>\n",
       "      <td>True</td>\n",
       "    </tr>\n",
       "    <tr>\n",
       "      <th>23872</th>\n",
       "      <td>요요무문</td>\n",
       "      <td>요요무문</td>\n",
       "      <td>80.0</td>\n",
       "      <td>y</td>\n",
       "      <td>n</td>\n",
       "      <td>카페/디저트</td>\n",
       "      <td>2020.0</td>\n",
       "      <td>구좌</td>\n",
       "      <td>True</td>\n",
       "    </tr>\n",
       "    <tr>\n",
       "      <th>24543</th>\n",
       "      <td>성산일출봉해송갈치전문점</td>\n",
       "      <td>성산일출봉해송갈치전문점</td>\n",
       "      <td>100.0</td>\n",
       "      <td>unknown</td>\n",
       "      <td>y</td>\n",
       "      <td>양식</td>\n",
       "      <td>2021.0</td>\n",
       "      <td>성산</td>\n",
       "      <td>True</td>\n",
       "    </tr>\n",
       "    <tr>\n",
       "      <th>23982</th>\n",
       "      <td>커피파인더</td>\n",
       "      <td>커피파인더</td>\n",
       "      <td>100.0</td>\n",
       "      <td>unknown</td>\n",
       "      <td>unknown</td>\n",
       "      <td>분식</td>\n",
       "      <td>2022.0</td>\n",
       "      <td>제주</td>\n",
       "      <td>True</td>\n",
       "    </tr>\n",
       "    <tr>\n",
       "      <th>...</th>\n",
       "      <td>...</td>\n",
       "      <td>...</td>\n",
       "      <td>...</td>\n",
       "      <td>...</td>\n",
       "      <td>...</td>\n",
       "      <td>...</td>\n",
       "      <td>...</td>\n",
       "      <td>...</td>\n",
       "      <td>...</td>\n",
       "    </tr>\n",
       "    <tr>\n",
       "      <th>15399</th>\n",
       "      <td>우진해장국</td>\n",
       "      <td>우진해장국</td>\n",
       "      <td>100.0</td>\n",
       "      <td>unknown</td>\n",
       "      <td>unknown</td>\n",
       "      <td>한식</td>\n",
       "      <td>2020.0</td>\n",
       "      <td>제주</td>\n",
       "      <td>True</td>\n",
       "    </tr>\n",
       "    <tr>\n",
       "      <th>15628</th>\n",
       "      <td>우진해장국</td>\n",
       "      <td>우진해장국</td>\n",
       "      <td>100.0</td>\n",
       "      <td>unknown</td>\n",
       "      <td>unknown</td>\n",
       "      <td>일식</td>\n",
       "      <td>2019.0</td>\n",
       "      <td>제주</td>\n",
       "      <td>True</td>\n",
       "    </tr>\n",
       "    <tr>\n",
       "      <th>12409</th>\n",
       "      <td>수우동</td>\n",
       "      <td>수우동</td>\n",
       "      <td>40.0</td>\n",
       "      <td>unknown</td>\n",
       "      <td>unknown</td>\n",
       "      <td>한식</td>\n",
       "      <td>2020.0</td>\n",
       "      <td>한림</td>\n",
       "      <td>True</td>\n",
       "    </tr>\n",
       "    <tr>\n",
       "      <th>22247</th>\n",
       "      <td>보영반점</td>\n",
       "      <td>카페 바다동굴</td>\n",
       "      <td>20.0</td>\n",
       "      <td>unknown</td>\n",
       "      <td>unknown</td>\n",
       "      <td>중식</td>\n",
       "      <td>2021.0</td>\n",
       "      <td>한림</td>\n",
       "      <td>False</td>\n",
       "    </tr>\n",
       "    <tr>\n",
       "      <th>10248</th>\n",
       "      <td>탑동산호전복</td>\n",
       "      <td>탑동산호전복</td>\n",
       "      <td>80.0</td>\n",
       "      <td>unknown</td>\n",
       "      <td>y</td>\n",
       "      <td>일식</td>\n",
       "      <td>2019.0</td>\n",
       "      <td>제주</td>\n",
       "      <td>True</td>\n",
       "    </tr>\n",
       "  </tbody>\n",
       "</table>\n",
       "<p>5203 rows × 9 columns</p>\n",
       "</div>"
      ],
      "text/plain": [
       "                예측값           실제값     별점   노키즈존여부   예약가능여부   메뉴대분류  리뷰작성연도  \\\n",
       "31945           싱싱잇           싱싱잇   60.0        n        y      한식  2022.0   \n",
       "23736           수카사           수카사  100.0        y  unknown  카페/디저트  2020.0   \n",
       "23872          요요무문          요요무문   80.0        y        n  카페/디저트  2020.0   \n",
       "24543  성산일출봉해송갈치전문점  성산일출봉해송갈치전문점  100.0  unknown        y      양식  2021.0   \n",
       "23982         커피파인더         커피파인더  100.0  unknown  unknown      분식  2022.0   \n",
       "...             ...           ...    ...      ...      ...     ...     ...   \n",
       "15399         우진해장국         우진해장국  100.0  unknown  unknown      한식  2020.0   \n",
       "15628         우진해장국         우진해장국  100.0  unknown  unknown      일식  2019.0   \n",
       "12409           수우동           수우동   40.0  unknown  unknown      한식  2020.0   \n",
       "22247          보영반점       카페 바다동굴   20.0  unknown  unknown      중식  2021.0   \n",
       "10248        탑동산호전복        탑동산호전복   80.0  unknown        y      일식  2019.0   \n",
       "\n",
       "       위치   예측비교  \n",
       "31945  한림   True  \n",
       "23736  구좌   True  \n",
       "23872  구좌   True  \n",
       "24543  성산   True  \n",
       "23982  제주   True  \n",
       "...    ..    ...  \n",
       "15399  제주   True  \n",
       "15628  제주   True  \n",
       "12409  한림   True  \n",
       "22247  한림  False  \n",
       "10248  제주   True  \n",
       "\n",
       "[5203 rows x 9 columns]"
      ]
     },
     "execution_count": 96,
     "metadata": {},
     "output_type": "execute_result"
    }
   ],
   "source": [
    "jejudf_compare['예측비교'] = (jejudf_compare['예측값'] == jejudf_compare['실제값'])\n",
    "jejudf_compare"
   ]
  },
  {
   "cell_type": "code",
   "execution_count": 97,
   "metadata": {},
   "outputs": [
    {
     "data": {
      "text/html": [
       "<div>\n",
       "<style scoped>\n",
       "    .dataframe tbody tr th:only-of-type {\n",
       "        vertical-align: middle;\n",
       "    }\n",
       "\n",
       "    .dataframe tbody tr th {\n",
       "        vertical-align: top;\n",
       "    }\n",
       "\n",
       "    .dataframe thead th {\n",
       "        text-align: right;\n",
       "    }\n",
       "</style>\n",
       "<table border=\"1\" class=\"dataframe\">\n",
       "  <thead>\n",
       "    <tr style=\"text-align: right;\">\n",
       "      <th></th>\n",
       "      <th>예측값</th>\n",
       "      <th>실제값</th>\n",
       "      <th>별점</th>\n",
       "      <th>노키즈존여부</th>\n",
       "      <th>예약가능여부</th>\n",
       "      <th>메뉴대분류</th>\n",
       "      <th>리뷰작성연도</th>\n",
       "      <th>위치</th>\n",
       "    </tr>\n",
       "    <tr>\n",
       "      <th>예측비교</th>\n",
       "      <th></th>\n",
       "      <th></th>\n",
       "      <th></th>\n",
       "      <th></th>\n",
       "      <th></th>\n",
       "      <th></th>\n",
       "      <th></th>\n",
       "      <th></th>\n",
       "    </tr>\n",
       "  </thead>\n",
       "  <tbody>\n",
       "    <tr>\n",
       "      <th>False</th>\n",
       "      <td>2430</td>\n",
       "      <td>2430</td>\n",
       "      <td>2430</td>\n",
       "      <td>2430</td>\n",
       "      <td>2430</td>\n",
       "      <td>2430</td>\n",
       "      <td>2430</td>\n",
       "      <td>2430</td>\n",
       "    </tr>\n",
       "    <tr>\n",
       "      <th>True</th>\n",
       "      <td>2773</td>\n",
       "      <td>2773</td>\n",
       "      <td>2773</td>\n",
       "      <td>2773</td>\n",
       "      <td>2773</td>\n",
       "      <td>2773</td>\n",
       "      <td>2773</td>\n",
       "      <td>2773</td>\n",
       "    </tr>\n",
       "  </tbody>\n",
       "</table>\n",
       "</div>"
      ],
      "text/plain": [
       "        예측값   실제값    별점  노키즈존여부  예약가능여부  메뉴대분류  리뷰작성연도    위치\n",
       "예측비교                                                        \n",
       "False  2430  2430  2430    2430    2430   2430    2430  2430\n",
       "True   2773  2773  2773    2773    2773   2773    2773  2773"
      ]
     },
     "execution_count": 97,
     "metadata": {},
     "output_type": "execute_result"
    }
   ],
   "source": [
    "jejudf_compare.groupby('예측비교').count()"
   ]
  },
  {
   "cell_type": "code",
   "execution_count": 98,
   "metadata": {},
   "outputs": [],
   "source": [
    "# 임의의 값으로 예측해보기\n",
    "# 별점: 100(고정) / 노키즈존: no / 예약여부: 무관 / 분류: 카페 / 리뷰작성연도: 무관 / 위치: 성산\n",
    "test_input = pd.DataFrame({\n",
    "    '별점': [100]*12,\n",
    "    '노키즈존여부': ['n']*12,\n",
    "    '예약가능여부': ['y', 'n', 'unknown']*4,\n",
    "    '메뉴대분류': ['카페/디저트']*12,\n",
    "    '리뷰작성연도': [2022, 2021, 2020, 2010]*3,\n",
    "    '위치': ['성산']*12\n",
    "})"
   ]
  },
  {
   "cell_type": "code",
   "execution_count": 99,
   "metadata": {},
   "outputs": [
    {
     "data": {
      "text/plain": [
       "도렐               4\n",
       "성산일출봉 해송갈치전문점    3\n",
       "새벽숯불가든           2\n",
       "그리운바다성산포         1\n",
       "복자씨연탄구이          1\n",
       "소라네집             1\n",
       "dtype: int64"
      ]
     },
     "execution_count": 99,
     "metadata": {},
     "output_type": "execute_result"
    }
   ],
   "source": [
    "# 예측값의 빈도가 높은 순으로 추천\n",
    "test_input_pred = pipe.predict(test_input)\n",
    "pd.DataFrame(test_input_pred).value_counts()"
   ]
  },
  {
   "cell_type": "code",
   "execution_count": 100,
   "metadata": {},
   "outputs": [],
   "source": [
    "# 해당 모델 피클링: flask_app 폴더 내부에 생성\n",
    "with open('flask_app/model.pkl','wb') as pickle_file:\n",
    "    pickle.dump(pipe, pickle_file)"
   ]
  }
 ],
 "metadata": {
  "kernelspec": {
   "display_name": "Python 3.8.13 ('s3pr')",
   "language": "python",
   "name": "python3"
  },
  "language_info": {
   "codemirror_mode": {
    "name": "ipython",
    "version": 3
   },
   "file_extension": ".py",
   "mimetype": "text/x-python",
   "name": "python",
   "nbconvert_exporter": "python",
   "pygments_lexer": "ipython3",
   "version": "3.8.13"
  },
  "orig_nbformat": 4,
  "vscode": {
   "interpreter": {
    "hash": "293f27dfecaeee3b5e5fccd8c72cf6eead03c86aef44c43dd5ab848ecfadbdf7"
   }
  }
 },
 "nbformat": 4,
 "nbformat_minor": 2
}
